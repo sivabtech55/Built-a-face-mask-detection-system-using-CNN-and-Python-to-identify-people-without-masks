{
  "nbformat": 4,
  "nbformat_minor": 0,
  "metadata": {
    "colab": {
      "provenance": [],
      "authorship_tag": "ABX9TyMh9twpq9hxBkRRmZSWy6i/"
    },
    "kernelspec": {
      "name": "python3",
      "display_name": "Python 3"
    },
    "language_info": {
      "name": "python"
    }
  },
  "cells": [
    {
      "cell_type": "markdown",
      "source": [
        "**Image Preprocessing**"
      ],
      "metadata": {
        "id": "nkOuGllW1uDg"
      }
    },
    {
      "cell_type": "code",
      "execution_count": null,
      "metadata": {
        "id": "c7oQLBXtyTrE"
      },
      "outputs": [],
      "source": [
        "import cv2,os\n",
        "import numpy as np"
      ]
    },
    {
      "cell_type": "code",
      "source": [
        "data_path='data'\n",
        "categories=os.listdir(data_path)\n",
        "labels=[i for i in range(len(categories))]\n",
        "\n",
        "label_dict=dict(zip(categories,labels))\n",
        "\n",
        "print(label_dict)\n",
        "print(categories)\n",
        "print(labels)"
      ],
      "metadata": {
        "id": "eSnY-XgayXlQ"
      },
      "execution_count": null,
      "outputs": []
    },
    {
      "cell_type": "code",
      "source": [
        "{'without_mask': 0, 'with_mask': 1}\n",
        "['without_mask', 'with_mask']\n",
        "[0, 1]"
      ],
      "metadata": {
        "id": "wsoadfndyYGm"
      },
      "execution_count": null,
      "outputs": []
    },
    {
      "cell_type": "code",
      "source": [
        "print(len(os.listdir('data/with_mask')))\n",
        "print(len(os.listdir('data/without_mask')))"
      ],
      "metadata": {
        "id": "MILdn30QyYzo"
      },
      "execution_count": null,
      "outputs": []
    },
    {
      "cell_type": "code",
      "source": [
        "img_size=64\n",
        "data=[]\n",
        "target=[]\n",
        "\n",
        "\n",
        "for category in categories:\n",
        "    folder_path=os.path.join(data_path,category)\n",
        "    img_names=os.listdir(folder_path)\n",
        "\n",
        "    for img_name in img_names:\n",
        "        img_path=os.path.join(folder_path,img_name)\n",
        "        img=cv2.imread(img_path)\n",
        "        gray=cv2.cvtColor(img,cv2.COLOR_BGR2GRAY)\n",
        "        resized=cv2.resize(gray,(img_size,img_size))\n",
        "        data.append(resized)\n",
        "        target.append(label_dict[category])"
      ],
      "metadata": {
        "id": "Jcp1XaDvyZSN"
      },
      "execution_count": null,
      "outputs": []
    },
    {
      "cell_type": "code",
      "source": [
        "data=np.array(data)/255.0\n",
        "data=np.reshape(data,(data.shape[0],img_size,img_size,1))"
      ],
      "metadata": {
        "id": "0WFRZWlZyhIh"
      },
      "execution_count": null,
      "outputs": []
    },
    {
      "cell_type": "code",
      "source": [
        "np.save('data3',data)\n",
        "np.save('target3',target)"
      ],
      "metadata": {
        "id": "0KBddTJMyhhd"
      },
      "execution_count": null,
      "outputs": []
    },
    {
      "cell_type": "markdown",
      "source": [
        "**Model Training**"
      ],
      "metadata": {
        "id": "ansxg_cdzLJd"
      }
    },
    {
      "cell_type": "code",
      "source": [
        "import cv2,os\n",
        "import numpy as np\n",
        "from keras.models import Sequential\n",
        "from keras.layers import Dense,Activation,Flatten,Dropout\n",
        "from keras.layers import Conv2D,MaxPooling2D\n",
        "\n",
        "\n",
        "data=np.load('data3.npy')\n",
        "target=np.load('target3.npy')\n"
      ],
      "metadata": {
        "id": "feHuMpLLypFA"
      },
      "execution_count": null,
      "outputs": []
    },
    {
      "cell_type": "code",
      "source": [
        "model=Sequential()\n",
        "\n",
        "model.add(Conv2D(32,(3,3),input_shape=data.shape[1:]))\n",
        "model.add(Conv2D(32,(3,3),input_shape=data.shape[1:]))\n",
        "model.add(MaxPooling2D(pool_size=(2,2)))\n",
        "\n",
        "model.add(Conv2D(32,(3,3)))\n",
        "model.add(Conv2D(32,(3,3)))\n",
        "model.add(MaxPooling2D(pool_size=(2,2)))\n",
        "\n",
        "model.add(Conv2D(32,(3,3)))\n",
        "model.add(Conv2D(32,(3,3)))\n",
        "model.add(MaxPooling2D(pool_size=(2,2)))\n",
        "\n",
        "model.add(Flatten())\n",
        "model.add(Dense(100, activation='relu'))\n",
        "model.add(Dropout(0.1))\n",
        "\n",
        "model.add(Dense(30, activation='relu'))\n",
        "model.add(Dropout(0.03))\n",
        "\n",
        "model.add(Dense(10, activation='relu'))\n",
        "model.add(Dropout(0.5))\n",
        "\n",
        "model.add(Dense(1,activation='sigmoid'))\n",
        "model.compile(loss='binary_crossentropy',optimizer='adam',metrics=['accuracy'])\n",
        "print(model.summary())\n",
        "from sklearn.model_selection import train_test_split\n",
        "\n",
        "train_data,test_data,train_target,test_target=train_test_split(data,target,test_size=0.2)\n",
        "print(train_data.shape)\n",
        "print(test_data.shape)\n",
        "history = model.fit(train_data, train_target,epochs=30,\n",
        "                              validation_data=(test_data, test_target),\n",
        "                              )"
      ],
      "metadata": {
        "id": "sMrFjqYLzpI6"
      },
      "execution_count": null,
      "outputs": []
    },
    {
      "cell_type": "code",
      "source": [
        "from matplotlib import pyplot as plt\n",
        "\n",
        "plt.plot(history.history['loss'],'r',label='training loss')\n",
        "plt.plot(history.history['val_loss'],label='validation loss')\n",
        "plt.xlabel('# epochs')\n",
        "plt.ylabel('loss')\n",
        "plt.legend()\n",
        "plt.show()\n",
        "plt.plot(history.history['accuracy'],'r',label='training accuracy')\n",
        "plt.plot(history.history['val_accuracy'],label='validation accuracy')\n",
        "plt.xlabel('# epochs')\n",
        "plt.ylabel('accuracy')\n",
        "plt.legend()\n",
        "plt.show()\n",
        "print(model.evaluate(test_data,test_target))\n",
        "model.save(\"t4.model\",save_format=\"h5\")\n",
        "p=[]\n",
        "predictions = model.predict(test_data)\n",
        "for i in predictions:\n",
        "    if i>0.5:\n",
        "        p.append(1)\n",
        "    else:\n",
        "        p.append(0)\n",
        "p=np.array(p)\n",
        "from sklearn.metrics import classification_report,confusion_matrix,accuracy_score\n",
        "print(accuracy_score(test_target,p))\n",
        "print(classification_report(test_target,p))\n",
        "print(confusion_matrix(test_target,p))"
      ],
      "metadata": {
        "id": "D7j6Q-PFzl5-"
      },
      "execution_count": null,
      "outputs": []
    },
    {
      "cell_type": "markdown",
      "source": [
        "**Training**"
      ],
      "metadata": {
        "id": "6fnYrvJQ2VB9"
      }
    },
    {
      "cell_type": "code",
      "source": [
        "import cv2,os\n",
        "import numpy as np\n",
        "from keras.models import Sequential\n",
        "from keras.layers import Dense,Activation,Flatten,Dropout\n",
        "from keras.layers import Conv2D,MaxPooling2D\n",
        "\n",
        "data=np.load('data3.npy')\n",
        "target=np.load('target3.npy')"
      ],
      "metadata": {
        "id": "C07a9g7u2Tbo"
      },
      "execution_count": null,
      "outputs": []
    },
    {
      "cell_type": "code",
      "source": [
        "model=Sequential()\n",
        "\n",
        "model.add(Conv2D(32,(3,3),activation='relu',input_shape=data.shape[1:]))\n",
        "model.add(Conv2D(32,(3,3),activation='relu'))\n",
        "model.add(MaxPooling2D(pool_size=(2,2)))\n",
        "\n",
        "model.add(Conv2D(32,(3,3),activation='relu'))\n",
        "model.add(Conv2D(32,(3,3),activation='relu'))\n",
        "model.add(MaxPooling2D(pool_size=(2,2)))\n",
        "\n",
        "model.add(Conv2D(32,(3,3),activation='relu'))\n",
        "model.add(Conv2D(32,(3,3),activation='relu'))\n",
        "model.add(MaxPooling2D(pool_size=(2,2)))\n",
        "\n",
        "model.add(Flatten())\n",
        "\n",
        "model.add(Dense(250, activation='relu'))\n",
        "model.add(Dropout(0.25))\n",
        "\n",
        "model.add(Dense(10, activation='relu'))\n",
        "model.add(Dropout(0.5))\n",
        "\n",
        "model.add(Dense(1,activation='sigmoid'))\n",
        "model.compile(loss='binary_crossentropy',optimizer='adam',metrics=['accuracy'])\n",
        "model.summary()\n",
        "from sklearn.model_selection import train_test_split\n",
        "\n",
        "train_data,test_data,train_target,test_target=train_test_split(data,target,test_size=0.2)\n",
        "print(train_data.shape)\n",
        "print(test_data.shape)\n",
        "history = model.fit(train_data, train_target,epochs=30,\n",
        "                              validation_data=(test_data, test_target),\n",
        "                              )\n",
        "print(model.evaluate(test_data,test_target))\n",
        "model.save(\"t5.model\",save_format=\"h5\")\n",
        "p=[]\n",
        "predictions = model.predict(test_data)\n",
        "for i in predictions:\n",
        "    if i>0.5:\n",
        "        p.append(1)\n",
        "    else:\n",
        "        p.append(0)\n",
        "p=np.array(p)\n",
        "from sklearn.metrics import classification_report,confusion_matrix,accuracy_score\n",
        "print(accuracy_score(test_target,p))\n",
        "print(classification_report(test_target,p))\n",
        "print(confusion_matrix(test_target,p))"
      ],
      "metadata": {
        "id": "l35sH3BL2bBL"
      },
      "execution_count": null,
      "outputs": []
    },
    {
      "cell_type": "markdown",
      "source": [
        "**Image Detection**"
      ],
      "metadata": {
        "id": "-Ileai1uz3hK"
      }
    },
    {
      "cell_type": "code",
      "source": [
        "from keras.models import load_model\n",
        "import cv2\n",
        "import numpy as np\n",
        "import matplotlib.pyplot as plt"
      ],
      "metadata": {
        "id": "Dt1YpLBqz6zD"
      },
      "execution_count": null,
      "outputs": []
    },
    {
      "cell_type": "code",
      "source": [
        "model = load_model('t5.model')\n",
        "face_clsfr=cv2.CascadeClassifier('haarcascade_frontalface_default.xml')\n",
        "frame = cv2.imread(\"\")\n",
        "frame.shape\n",
        "gray=cv2.cvtColor(frame,cv2.COLOR_BGR2GRAY)\n",
        "gray.shape\n",
        "faces=face_clsfr.detectMultiScale(gray)\n",
        "while True:\n",
        "    for x,y,w,h in faces:\n",
        "        cv2.rectangle(gray,(x,y),(x+w,y+h),(255,0,255),2)\n",
        "    cv2.imshow('image',gray)\n",
        "    if cv2.waitKey(1)==27:\n",
        "        break\n",
        "cv2.destroyAllWindows()\n",
        "\n",
        "plt.imshow(cv2.cvtColor(frame,cv2.COLOR_BGR2RGB))\n",
        "for x,y,w,h in faces:\n",
        "    face_img=gray[y:y+h,x:x+w]\n",
        "    resized=cv2.resize(face_img,(64,64))\n",
        "    normalized=resized/255.0\n",
        "    reshaped=np.reshape(normalized,(1,64,64,1))\n",
        "    result=model.predict(reshaped)\n",
        "    if result>0.5:\n",
        "        label=1\n",
        "        print(\"Mask\")\n",
        "    else:\n",
        "        label=0\n",
        "        print(\"No mask\")\n",
        "print(label)\n",
        "\n"
      ],
      "metadata": {
        "id": "DT-ThCJd0GEc"
      },
      "execution_count": null,
      "outputs": []
    },
    {
      "cell_type": "code",
      "source": [
        "frame = cv2.imread(\"\")\n",
        "frame.shape\n",
        "gray=cv2.cvtColor(frame,cv2.COLOR_BGR2GRAY)\n",
        "gray.shape\n",
        "faces=face_clsfr.detectMultiScale(gray)\n",
        "while True:\n",
        "    for x,y,w,h in faces:\n",
        "        cv2.rectangle(gray,(x,y),(x+w,y+h),(255,0,255),2)\n",
        "    cv2.imshow('image',gray)\n",
        "    if cv2.waitKey(1)==27:\n",
        "            break\n",
        "cv2.destroyAllWindows()\n",
        "plt.imshow(cv2.cvtColor(frame,cv2.COLOR_BGR2RGB))\n",
        "for x,y,w,h in faces:\n",
        "    face_img=gray[y:y+h,x:x+w]\n",
        "    resized=cv2.resize(face_img,(64,64))\n",
        "    normalized=resized/255.0\n",
        "    reshaped=np.reshape(normalized,(1,64,64,1))\n",
        "    result=model.predict(reshaped)\n",
        "    if result>0.5:\n",
        "        label=1\n",
        "        print(\"Mask\")\n",
        "    else:\n",
        "        label=0\n",
        "        print(\"No mask\")\n",
        "\n",
        "print(label)"
      ],
      "metadata": {
        "id": "w08Yv2PNz-lb"
      },
      "execution_count": null,
      "outputs": []
    },
    {
      "cell_type": "markdown",
      "source": [
        "Email Detection"
      ],
      "metadata": {
        "id": "9uS47oMX0vRa"
      }
    },
    {
      "cell_type": "code",
      "source": [
        "from keras.models import load_model\n",
        "import cv2\n",
        "import numpy as np\n",
        "import smtplib\n",
        "import os\n",
        "import smtplib\n",
        "from email.mime.text import MIMEText\n",
        "from email.mime.base import MIMEBase\n",
        "from email.mime.image import MIMEImage\n",
        "from email.mime.multipart import MIMEMultipart\n",
        "from email import encoders"
      ],
      "metadata": {
        "id": "Q4ROM9Mt0yTo"
      },
      "execution_count": null,
      "outputs": []
    },
    {
      "cell_type": "code",
      "source": [
        "model = load_model('t5.model')\n",
        "\n",
        "face_clsfr=cv2.CascadeClassifier('haarcascade_frontalface_default.xml')\n",
        "\n",
        "labels_dict={1:'MASK',0:'NO MASK'}\n",
        "color_dict={1:(0,255,0),0:(0,0,255)}"
      ],
      "metadata": {
        "id": "rsOn6EoN0zLg"
      },
      "execution_count": null,
      "outputs": []
    },
    {
      "cell_type": "code",
      "source": [
        "source=cv2.VideoCapture(0)\n",
        "count = 0\n",
        "while(True):\n",
        "\n",
        "    ret,img=source.read()\n",
        "    gray=cv2.cvtColor(img,cv2.COLOR_BGR2GRAY)\n",
        "    faces=face_clsfr.detectMultiScale(gray,1.3,5)\n",
        "\n",
        "    for (x,y,w,h) in faces:\n",
        "\n",
        "        face_img=gray[y:y+w,x:x+w]\n",
        "        resized=cv2.resize(face_img,(64,64))\n",
        "        normalized=resized/255.0\n",
        "        reshaped=np.reshape(normalized,(1,64,64,1))\n",
        "        result=model.predict(reshaped)\n",
        "        if result>0.5:\n",
        "            label=1\n",
        "        else:\n",
        "            label=0\n",
        "            if count<10:\n",
        "                cv2.imwrite(\"frame%d.png\" % count,img)\n",
        "            gmail_user = \"\"\n",
        "            gmail_pwd =  \"\"\n",
        "            to = \"\"\n",
        "            subject = \"Report\"\n",
        "            text = \"Picture report\"\n",
        "            msg = MIMEMultipart()\n",
        "            msg['From'] = gmail_user\n",
        "            msg['To'] = to\n",
        "            msg['Subject'] = subject\n",
        "            msg.attach(MIMEText(text))\n",
        "            part = MIMEBase('application', 'octet-stream')\n",
        "            part.set_payload(open(\"frame%d.png\" % count, 'rb').read())\n",
        "            encoders.encode_base64(part)\n",
        "            part.add_header('Content-Disposition','attachment; filename=\"%s\"' % os.path.basename(\"frame%d.png\" % count))\n",
        "            msg.attach(part)\n",
        "            mailServer = smtplib.SMTP(\"smtp.gmail.com\", 587)\n",
        "            mailServer.starttls()\n",
        "            mailServer.login(gmail_user, gmail_pwd)\n",
        "            mailServer.sendmail(gmail_user, to, msg.as_string())\n",
        "            print(\"mail send\")\n",
        "            mailServer.close()\n",
        "            count+=1\n",
        "\n",
        "        cv2.rectangle(img,(x,y),(x+w,y+h),color_dict[label],2)\n",
        "        cv2.rectangle(img,(x,y-40),(x+w,y),color_dict[label],-1)\n",
        "        cv2.putText(img, labels_dict[label],(x, y-10),cv2.FONT_HERSHEY_SIMPLEX,0.8,(255,255,255),2)\n",
        "\n",
        "\n",
        "\n",
        "    cv2.imshow('LIVE',img)\n",
        "    key=cv2.waitKey(2)\n",
        "    if(key==27):\n",
        "        break\n",
        "\n",
        "cv2.destroyAllWindows()\n",
        "source.release()\n"
      ],
      "metadata": {
        "id": "I0qnHKJO01fk"
      },
      "execution_count": null,
      "outputs": []
    },
    {
      "cell_type": "code",
      "source": [
        "cv2.destroyAllWindows()\n",
        "source.release()"
      ],
      "metadata": {
        "id": "PtO9oEJG07lZ"
      },
      "execution_count": null,
      "outputs": []
    },
    {
      "cell_type": "markdown",
      "source": [
        "**Video Detection**"
      ],
      "metadata": {
        "id": "779TMaW91CIv"
      }
    },
    {
      "cell_type": "code",
      "source": [
        "from keras.models import load_model\n",
        "import cv2\n",
        "import numpy as np\n",
        "model = load_model('t5.model')"
      ],
      "metadata": {
        "id": "SIPY0M7e1Ftw"
      },
      "execution_count": null,
      "outputs": []
    },
    {
      "cell_type": "code",
      "source": [
        "face_clsfr=cv2.CascadeClassifier('haarcascade_frontalface_default.xml')\n",
        "labels_dict={1:'MASK',0:'NO MASK'}\n",
        "color_dict={1:(0,255,0),0:(0,0,255)}\n",
        "source=cv2.VideoCapture(0)\n",
        "while(True):\n",
        "\n",
        "    ret,img=source.read()\n",
        "    gray=cv2.cvtColor(img,cv2.COLOR_BGR2GRAY)\n",
        "    faces=face_clsfr.detectMultiScale(gray,1.3,5)\n",
        "\n",
        "    for (x,y,w,h) in faces:\n",
        "\n",
        "        face_img=gray[y:y+w,x:x+w]\n",
        "        resized=cv2.resize(face_img,(64,64))\n",
        "        normalized=resized/255.0\n",
        "        reshaped=np.reshape(normalized,(1,64,64,1))\n",
        "        result=model.predict(reshaped)\n",
        "        if result>0.5:\n",
        "            label=1\n",
        "        else:\n",
        "            label=0\n",
        "\n",
        "        cv2.rectangle(img,(x,y),(x+w,y+h),color_dict[label],2)\n",
        "        cv2.rectangle(img,(x,y-40),(x+w,y),color_dict[label],-1)\n",
        "        cv2.putText(img, labels_dict[label],(x, y-10),cv2.FONT_HERSHEY_SIMPLEX,0.8,(255,255,255),2)\n",
        "\n",
        "\n",
        "    cv2.imshow('LIVE',img)\n",
        "    key=cv2.waitKey(1)\n",
        "\n",
        "    if(key==27):\n",
        "        break\n",
        "\n",
        "cv2.destroyAllWindows()\n",
        "source.release()"
      ],
      "metadata": {
        "id": "wC8lNKzU1Kc1"
      },
      "execution_count": null,
      "outputs": []
    }
  ]
}